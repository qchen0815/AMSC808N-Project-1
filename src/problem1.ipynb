{
 "cells": [
  {
   "cell_type": "code",
   "execution_count": 1,
   "metadata": {},
   "outputs": [],
   "source": [
    "import numpy as np\n",
    "import matplotlib.pyplot as plt\n",
    "\n",
    "from sklearn.decomposition import PCA\n",
    "from keras.datasets import mnist\n",
    "\n",
    "from optimizers import SGD, Nesterov, Adam, LBFGS"
   ]
  },
  {
   "cell_type": "code",
   "execution_count": 13,
   "metadata": {},
   "outputs": [
    {
     "name": "stdout",
     "output_type": "stream",
     "text": [
      "(13007, 784) (13007,)\n",
      "(2163, 784) (2163,)\n"
     ]
    }
   ],
   "source": [
    "(X_train, y_train), (X_test, y_test) = mnist.load_data()\n",
    "X_train = X_train[(y_train == 1) | (y_train == 7)].reshape((-1, np.prod(X_train.shape[1:])))\n",
    "y_train = 2 * (y_train[(y_train == 1) | (y_train == 7)] == 1) - 1\n",
    "X_test = X_test[(y_test == 1) | (y_test == 7)].reshape((-1, np.prod(X_test.shape[1:])))\n",
    "y_test = 2 * (y_test[(y_test == 1) | (y_test == 7)] == 1) - 1\n",
    "\n",
    "print(X_train.shape, y_train.shape)\n",
    "print(X_test.shape, y_test.shape)"
   ]
  },
  {
   "cell_type": "code",
   "execution_count": 14,
   "metadata": {},
   "outputs": [
    {
     "name": "stdout",
     "output_type": "stream",
     "text": [
      "(13007, 20) (2163, 20)\n"
     ]
    }
   ],
   "source": [
    "pca_20 = PCA(n_components=20)\n",
    "X_train_20 = pca_20.fit_transform(X_train)\n",
    "X_test_20 = pca_20.transform(X_test)\n",
    "\n",
    "print(X_train_20.shape, X_test_20.shape)"
   ]
  },
  {
   "cell_type": "code",
   "execution_count": null,
   "metadata": {},
   "outputs": [],
   "source": []
  }
 ],
 "metadata": {
  "kernelspec": {
   "display_name": "Python 3.9.10 64-bit ('3.9.10')",
   "language": "python",
   "name": "python3"
  },
  "language_info": {
   "codemirror_mode": {
    "name": "ipython",
    "version": 3
   },
   "file_extension": ".py",
   "mimetype": "text/x-python",
   "name": "python",
   "nbconvert_exporter": "python",
   "pygments_lexer": "ipython3",
   "version": "3.9.10"
  },
  "orig_nbformat": 4,
  "vscode": {
   "interpreter": {
    "hash": "e198ef9755690b80642333ad4157b3528e43bbd1b8d8dd4f7d11347b034d95ea"
   }
  }
 },
 "nbformat": 4,
 "nbformat_minor": 2
}
