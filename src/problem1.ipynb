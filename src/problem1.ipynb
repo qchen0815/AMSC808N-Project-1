{
 "cells": [
  {
   "cell_type": "code",
   "execution_count": 1,
   "metadata": {},
   "outputs": [],
   "source": [
    "import numpy as np\n",
    "import matplotlib.pyplot as plt\n",
    "\n",
    "from sklearn.decomposition import PCA\n",
    "from keras.datasets import mnist\n",
    "\n",
    "from optimizers import SGD, Nesterov, Adam, LBFGS"
   ]
  },
  {
   "cell_type": "code",
   "execution_count": 2,
   "metadata": {},
   "outputs": [
    {
     "name": "stdout",
     "output_type": "stream",
     "text": [
      "(13007, 784) (13007,)\n",
      "(2163, 784) (2163,)\n"
     ]
    }
   ],
   "source": [
    "(X_train, y_train), (X_test, y_test) = mnist.load_data()\n",
    "X_train = X_train[(y_train == 1) | (y_train == 7)].reshape((-1, np.prod(X_train.shape[1:]))) / 255.\n",
    "y_train = 2 * (y_train[(y_train == 1) | (y_train == 7)] == 1) - 1\n",
    "X_test = X_test[(y_test == 1) | (y_test == 7)].reshape((-1, np.prod(X_test.shape[1:]))) / 255.\n",
    "y_test = 2 * (y_test[(y_test == 1) | (y_test == 7)] == 1) - 1\n",
    "\n",
    "print(X_train.shape, y_train.shape)\n",
    "print(X_test.shape, y_test.shape)"
   ]
  },
  {
   "cell_type": "code",
   "execution_count": 3,
   "metadata": {},
   "outputs": [
    {
     "name": "stdout",
     "output_type": "stream",
     "text": [
      "(13007, 20) (2163, 20)\n"
     ]
    }
   ],
   "source": [
    "pca_20 = PCA(n_components=20)\n",
    "X_train_20 = pca_20.fit_transform(X_train)\n",
    "X_test_20 = pca_20.transform(X_test)\n",
    "\n",
    "print(X_train_20.shape, X_test_20.shape)"
   ]
  },
  {
   "cell_type": "code",
   "execution_count": 4,
   "metadata": {},
   "outputs": [
    {
     "name": "stdout",
     "output_type": "stream",
     "text": [
      "(13007, 421) (2163, 421)\n"
     ]
    }
   ],
   "source": [
    "# constructs 2d array of data feature coefficients in quadratic test function\n",
    "# equivalent to a linear system with parameter vector w, ie.\n",
    "# y * (x.T @ W @ x + v.T @ x + b) == get_quadratic(x, y) @ w\n",
    "def get_quadratic(X_data, y_data):\n",
    "    quad_term = (X_data[:, :, np.newaxis] * X_data[:, np.newaxis, :]).reshape((len(X_data), -1))\n",
    "    quadratic = y_data[:, np.newaxis] * np.hstack((quad_term, X_data, np.ones((len(X_data), 1))))\n",
    "    return quadratic\n",
    "\n",
    "quad_train = get_quadratic(X_train_20, y_train)\n",
    "quad_test = get_quadratic(X_test_20, y_test)\n",
    "\n",
    "print(quad_train.shape, quad_test.shape)"
   ]
  },
  {
   "cell_type": "code",
   "execution_count": 5,
   "metadata": {},
   "outputs": [],
   "source": [
    "# loss function over entire training set\n",
    "def loss_function(w, lam=1e-3):\n",
    "    return np.sum(np.log(1 + np.exp(-quad_train @ w))) / len(quad_train) + lam / 2 * np.sum(w ** 2)\n",
    "\n",
    "# gradient function allows for different batches\n",
    "def loss_gradient(w, data_batch, lam=1e-3):\n",
    "    exp_quad = np.exp(-data_batch @ w)\n",
    "    coef = exp_quad / (1 + exp_quad)\n",
    "    return np.sum(-data_batch * coef[:, np.newaxis], axis=0) / len(data_batch) + lam * w"
   ]
  },
  {
   "cell_type": "code",
   "execution_count": 8,
   "metadata": {},
   "outputs": [],
   "source": [
    "def eval_test_func(w):\n",
    "    eval_train = (quad_train @ w > 0).astype(int)\n",
    "    eval_test = (quad_test @ w > 0).astype(int)\n",
    "    correct_train = sum(eval_train)\n",
    "    correct_test = sum(eval_test)\n",
    "    acc_train = correct_train / len(eval_train)\n",
    "    acc_test = correct_test / len(eval_test)\n",
    "    print(f'train correct: {correct_train}, train accuracy: {acc_train}')\n",
    "    print(f'test correct: {correct_test}, test accuracy: {acc_test}')"
   ]
  },
  {
   "cell_type": "code",
   "execution_count": 9,
   "metadata": {},
   "outputs": [
    {
     "name": "stdout",
     "output_type": "stream",
     "text": [
      "train correct: 12913, train accuracy: 0.992773122164988\n",
      "test correct: 2138, test accuracy: 0.9884419787332409\n"
     ]
    }
   ],
   "source": [
    "params = {\n",
    "    \"data\": quad_train,\n",
    "    \"batch_size\": 20,\n",
    "    \"step_size\": 0.01,\n",
    "    \"epochs\": 10,\n",
    "    \"loss\": loss_function,\n",
    "    \"grad\": loss_gradient,\n",
    "}\n",
    "\n",
    "sgd = SGD(**params)\n",
    "w_sgd = sgd.minimize()\n",
    "eval_test_func(w_sgd)"
   ]
  }
 ],
 "metadata": {
  "kernelspec": {
   "display_name": "Python 3.9.10 64-bit ('3.9.10')",
   "language": "python",
   "name": "python3"
  },
  "language_info": {
   "codemirror_mode": {
    "name": "ipython",
    "version": 3
   },
   "file_extension": ".py",
   "mimetype": "text/x-python",
   "name": "python",
   "nbconvert_exporter": "python",
   "pygments_lexer": "ipython3",
   "version": "3.9.10"
  },
  "orig_nbformat": 4,
  "vscode": {
   "interpreter": {
    "hash": "e198ef9755690b80642333ad4157b3528e43bbd1b8d8dd4f7d11347b034d95ea"
   }
  }
 },
 "nbformat": 4,
 "nbformat_minor": 2
}
