{
 "cells": [
  {
   "cell_type": "code",
   "execution_count": 1,
   "metadata": {},
   "outputs": [],
   "source": [
    "import numpy as np\n",
    "import matplotlib.pyplot as plt\n",
    "\n",
    "from sklearn.decomposition import PCA\n",
    "from keras.datasets import mnist\n",
    "\n",
    "from optimizers import SGD, Nesterov, Adam, LBFGS"
   ]
  },
  {
   "cell_type": "code",
   "execution_count": 2,
   "metadata": {},
   "outputs": [
    {
     "name": "stdout",
     "output_type": "stream",
     "text": [
      "(13007, 784) (13007,)\n",
      "(2163, 784) (2163,)\n"
     ]
    }
   ],
   "source": [
    "(X_train, y_train), (X_test, y_test) = mnist.load_data()\n",
    "X_train = X_train[(y_train == 1) | (y_train == 7)].reshape((-1, np.prod(X_train.shape[1:]))) / 255.\n",
    "y_train = 2 * (y_train[(y_train == 1) | (y_train == 7)] == 1) - 1\n",
    "X_test = X_test[(y_test == 1) | (y_test == 7)].reshape((-1, np.prod(X_test.shape[1:]))) / 255.\n",
    "y_test = 2 * (y_test[(y_test == 1) | (y_test == 7)] == 1) - 1\n",
    "\n",
    "print(X_train.shape, y_train.shape)\n",
    "print(X_test.shape, y_test.shape)"
   ]
  },
  {
   "cell_type": "code",
   "execution_count": 3,
   "metadata": {},
   "outputs": [
    {
     "name": "stdout",
     "output_type": "stream",
     "text": [
      "(13007, 20) (2163, 20)\n"
     ]
    }
   ],
   "source": [
    "pca_20 = PCA(n_components=20)\n",
    "X_train_20 = pca_20.fit_transform(X_train)\n",
    "X_test_20 = pca_20.transform(X_test)\n",
    "\n",
    "print(X_train_20.shape, X_test_20.shape)"
   ]
  },
  {
   "cell_type": "code",
   "execution_count": 4,
   "metadata": {},
   "outputs": [
    {
     "name": "stdout",
     "output_type": "stream",
     "text": [
      "(13007, 421) (2163, 421)\n"
     ]
    }
   ],
   "source": [
    "# constructs 2d array of data feature coefficients in quadratic test function\n",
    "# equivalent to a linear system with parameter vector w, ie.\n",
    "# y * (x.T @ W @ x + v.T @ x + b) == get_quadratic(x, y) @ w\n",
    "def get_quadratic(X_data, y_data):\n",
    "    quad_term = (X_data[:, :, np.newaxis] * X_data[:, np.newaxis, :]).reshape((len(X_data), -1))\n",
    "    quadratic = y_data[:, np.newaxis] * np.hstack((quad_term, X_data, np.ones((len(X_data), 1))))\n",
    "    return quadratic.astype(np.float128)\n",
    "\n",
    "quad_train = get_quadratic(X_train_20, y_train)\n",
    "quad_test = get_quadratic(X_test_20, y_test)\n",
    "\n",
    "print(quad_train.shape, quad_test.shape)"
   ]
  },
  {
   "cell_type": "code",
   "execution_count": 5,
   "metadata": {},
   "outputs": [],
   "source": [
    "# loss function over entire training set\n",
    "def loss_function(w, lam=1e-3):\n",
    "    return np.sum(np.log(1 + np.exp(-quad_train @ w))) / len(quad_train) + lam / 2 * np.sum(w ** 2)\n",
    "\n",
    "# gradient function allows for different batches\n",
    "def loss_gradient(w, data_batch, lam=1e-3):\n",
    "    exp_quad = np.exp(-data_batch @ w)\n",
    "    coef = exp_quad / (1 + exp_quad)\n",
    "    return np.sum(-data_batch * coef[:, np.newaxis], axis=0) / len(data_batch) + lam * w"
   ]
  },
  {
   "cell_type": "code",
   "execution_count": 6,
   "metadata": {},
   "outputs": [],
   "source": [
    "def eval_test_func(w):\n",
    "    eval_train = (quad_train @ w > 0).astype(int)\n",
    "    eval_test = (quad_test @ w > 0).astype(int)\n",
    "    correct_train = sum(eval_train)\n",
    "    correct_test = sum(eval_test)\n",
    "    acc_train = correct_train / len(eval_train)\n",
    "    acc_test = correct_test / len(eval_test)\n",
    "    print(f'train correct: {correct_train}, train accuracy: {acc_train}')\n",
    "    print(f'test correct: {correct_test}, test accuracy: {acc_test}')\n",
    "\n",
    "def visualize_histories(loss_hist, grad_norms):\n",
    "    fig, axs = plt.subplots(1, 2, figsize=(10, 5))\n",
    "    axs[0].title.set_text('Objective loss vs. epoch')\n",
    "    axs[0].plot(loss_hist)\n",
    "    axs[1].title.set_text('Gradient norm vs. iteration')\n",
    "    axs[1].plot(grad_norms)\n",
    "    plt.show()"
   ]
  },
  {
   "cell_type": "code",
   "execution_count": 7,
   "metadata": {},
   "outputs": [
    {
     "name": "stdout",
     "output_type": "stream",
     "text": [
      "train correct: 12896, train accuracy: 0.9914661336203583\n",
      "test correct: 2139, test accuracy: 0.9889042995839112\n"
     ]
    }
   ],
   "source": [
    "params = {\n",
    "    \"data\": quad_train,\n",
    "    \"batch_size\": 20,\n",
    "    \"step_size\": 0.01,\n",
    "    \"epochs\": 10,\n",
    "    \"loss\": loss_function,\n",
    "    \"grad\": loss_gradient,\n",
    "}\n",
    "\n",
    "sgd = SGD(**params)\n",
    "w_sgd = sgd.minimize()\n",
    "eval_test_func(w_sgd)"
   ]
  },
  {
   "cell_type": "code",
   "execution_count": 8,
   "metadata": {},
   "outputs": [
    {
     "name": "stdout",
     "output_type": "stream",
     "text": [
      "train correct: 12681, train accuracy: 0.9749365726147459\n",
      "test correct: 2117, test accuracy: 0.9787332408691632\n"
     ]
    }
   ],
   "source": [
    "params = {\n",
    "    \"data\": quad_train,\n",
    "    \"batch_size\": 20,\n",
    "    \"step_size\": 0.01,\n",
    "    \"epochs\": 10,\n",
    "    \"loss\": loss_function,\n",
    "    \"grad\": loss_gradient,\n",
    "}\n",
    "\n",
    "nesterov = Nesterov(**params)\n",
    "w_nesterov = nesterov.minimize()\n",
    "eval_test_func(w_nesterov)"
   ]
  },
  {
   "cell_type": "code",
   "execution_count": 9,
   "metadata": {},
   "outputs": [
    {
     "name": "stdout",
     "output_type": "stream",
     "text": [
      "train correct: 12961, train accuracy: 0.9964634427615899\n",
      "test correct: 2153, test accuracy: 0.9953767914932964\n"
     ]
    }
   ],
   "source": [
    "params = {\n",
    "    \"data\": quad_train,\n",
    "    \"batch_size\": 20,\n",
    "    \"step_size\": 0.01,\n",
    "    \"epochs\": 10,\n",
    "    \"loss\": loss_function,\n",
    "    \"grad\": loss_gradient,\n",
    "}\n",
    "\n",
    "adam = Adam(**params)\n",
    "w_adam = adam.minimize()\n",
    "eval_test_func(w_adam)"
   ]
  },
  {
   "cell_type": "code",
   "execution_count": 10,
   "metadata": {},
   "outputs": [
    {
     "name": "stdout",
     "output_type": "stream",
     "text": [
      "train correct: 8892, train accuracy: 0.683631890520489\n",
      "test correct: 1481, test accuracy: 0.6846971798428109\n"
     ]
    }
   ],
   "source": [
    "params = {\n",
    "    \"data\": quad_train,\n",
    "    \"batch_size\": 20,\n",
    "    \"step_size\": 0.001,\n",
    "    \"epochs\": 10,\n",
    "    \"loss\": loss_function,\n",
    "    \"grad\": loss_gradient,\n",
    "    \"m\": 10,\n",
    "    \"update_freq\": 10,\n",
    "}\n",
    "\n",
    "lbfgs = LBFGS(**params)\n",
    "w_lbfgs = lbfgs.minimize()\n",
    "eval_test_func(w_lbfgs)"
   ]
  },
  {
   "cell_type": "code",
   "execution_count": 11,
   "metadata": {},
   "outputs": [
    {
     "data": {
      "image/png": "[encoded data removed]",
      "text/plain": [
       "<Figure size 1000x500 with 2 Axes>"
      ]
     },
     "metadata": {},
     "output_type": "display_data"
    }
   ],
   "source": [
    "visualize_histories(*lbfgs.get_histories())"
   ]
  }
 ],
 "metadata": {
  "kernelspec": {
   "display_name": "Python 3.9.10 64-bit ('3.9.10')",
   "language": "python",
   "name": "python3"
  },
  "language_info": {
   "codemirror_mode": {
    "name": "ipython",
    "version": 3
   },
   "file_extension": ".py",
   "mimetype": "text/x-python",
   "name": "python",
   "nbconvert_exporter": "python",
   "pygments_lexer": "ipython3",
   "version": "3.9.10"
  },
  "orig_nbformat": 4,
  "vscode": {
   "interpreter": {
    "hash": "e198ef9755690b80642333ad4157b3528e43bbd1b8d8dd4f7d11347b034d95ea"
   }
  }
 },
 "nbformat": 4,
 "nbformat_minor": 2
}
